{
 "cells": [
  {
   "cell_type": "markdown",
   "metadata": {},
   "source": [
    "### String"
   ]
  },
  {
   "cell_type": "markdown",
   "metadata": {},
   "source": [
    "It's extremely common to deal with lots of text in a real-world context. Python has plenty of support for textual data. We'll go through some of the most common operations here. \n",
    "\n",
    "Python represents texts as strings, which are basically lists of characters."
   ]
  },
  {
   "cell_type": "code",
   "execution_count": 1,
   "metadata": {
    "collapsed": false
   },
   "outputs": [
    {
     "data": {
      "text/plain": [
       "str"
      ]
     },
     "execution_count": 1,
     "metadata": {},
     "output_type": "execute_result"
    }
   ],
   "source": [
    "x = \"Hello, world\"\n",
    "type(x)"
   ]
  },
  {
   "cell_type": "markdown",
   "metadata": {},
   "source": [
    "There are a couple of ways of specifying strings, each of which is most convenient in the right context:\n",
    "* Using single quotes: 'Does the name \"John\" ring a bell?'\n",
    "* Using double quotes: \"It's Friday\"\n",
    "* Using triple quotes: \"\"\"A long    \n",
    "\n",
    "long    \n",
    "string\"\"\"    \n",
    "* Raw strings: r\"\\w*\\d{4}\" or r\"C:\\Windows\" or r\"\"\"\\w*\\d{4}\"\"\" (more below)    \n",
    "Use single quotes when the string itself contains double quotes. Likewise, use double quotes when the string itself contains single quotes. Normal strings can't span multiple lines: that's what triple-quoted strings are useful for.    \n",
    "\n",
    "Inside strings, you can introduce special characters by escaping them with a backslash. Here are some common examples:    \n",
    "* \\n: Newline\n",
    "* \\r: Carriage return\n",
    "* \\t: Tab\n",
    "* \\': Single quote (works even inside single-quoted strings)\n",
    "* \\\": Double quote (works even inside double-quoted strings)\n",
    "* \\\\: Backslash itself    \n",
    "\n",
    "Here's an example:"
   ]
  },
  {
   "cell_type": "code",
   "execution_count": 2,
   "metadata": {
    "collapsed": false
   },
   "outputs": [
    {
     "name": "stdout",
     "output_type": "stream",
     "text": [
      "A complex string\n",
      "with\tmany so-called \"quoted' characters,\n",
      "introduced with \\\n"
     ]
    }
   ],
   "source": [
    "print(\"A complex string\\nwith\\tmany so-called \\\"quoted\\' characters,\\nintroduced with \\\\\")"
   ]
  },
  {
   "cell_type": "markdown",
   "metadata": {},
   "source": [
    "In regular expressions (which we'll cover later if you've never seen them), all this quoting really gets in the way. That's where raw strings are useful. Raw strings will not interpret any escape characters.    \n",
    "You might also find raw strings useful for specifying pathnames in Windows."
   ]
  },
  {
   "cell_type": "code",
   "execution_count": 3,
   "metadata": {
    "collapsed": false
   },
   "outputs": [
    {
     "name": "stdout",
     "output_type": "stream",
     "text": [
      "Search for backslashed words and digits (hard): '\\\\\\w+\\d{4}'\n",
      "Search for backslashed words and digits (easy): '\\\\\\w+\\d{4}'\n",
      "Path (hard): C:\\Users\\me\\folder\\data.txt\n",
      "Path (easy): C:\\Users\\me\\folder\\data.txt\n"
     ]
    }
   ],
   "source": [
    "print( \"Search for backslashed words and digits (hard): '\\\\\\\\\\\\w+\\\\d{4}'\")\n",
    "print(r\"Search for backslashed words and digits (easy): '\\\\\\w+\\d{4}'\")\n",
    "print( \"Path (hard): C:\\\\Users\\\\me\\\\folder\\\\data.txt\")\n",
    "print(r\"Path (easy): C:\\Users\\me\\folder\\data.txt\")"
   ]
  },
  {
   "cell_type": "markdown",
   "metadata": {},
   "source": [
    "As mentioned above, strings are basically lists of characters, which you can access via indexing or slicing:"
   ]
  },
  {
   "cell_type": "code",
   "execution_count": 4,
   "metadata": {
    "collapsed": false
   },
   "outputs": [
    {
     "name": "stdout",
     "output_type": "stream",
     "text": [
      "H\n",
      "ll\n",
      "llo\n"
     ]
    }
   ],
   "source": [
    "s = \"Hello\"\n",
    "print(s[0])\n",
    "print(s[2:4])\n",
    "print(s[-3:])"
   ]
  },
  {
   "cell_type": "markdown",
   "metadata": {},
   "source": [
    "#### Ex How would you classify a filename based on its extension as either a JPEG, a text file, a CSV, or something else?"
   ]
  },
  {
   "cell_type": "code",
   "execution_count": 18,
   "metadata": {
    "collapsed": false
   },
   "outputs": [
    {
     "data": {
      "text/plain": [
       "True"
      ]
     },
     "execution_count": 18,
     "metadata": {},
     "output_type": "execute_result"
    }
   ],
   "source": [
    "a=\"C:\\\\Users\\\\me\\\\folder\\\\data.txt\"\n",
    "a[-3:]==\"txt\""
   ]
  },
  {
   "cell_type": "markdown",
   "metadata": {},
   "source": [
    "You can iterate through the characters in a string with a for loop:"
   ]
  },
  {
   "cell_type": "code",
   "execution_count": 19,
   "metadata": {
    "collapsed": false
   },
   "outputs": [
    {
     "name": "stdout",
     "output_type": "stream",
     "text": [
      "H\n",
      "e\n",
      "l\n",
      "l\n",
      "o\n"
     ]
    }
   ],
   "source": [
    "for c in \"Hello\":\n",
    "    print c"
   ]
  },
  {
   "cell_type": "markdown",
   "metadata": {},
   "source": [
    "#### Ex Given a string for a phone number, e.g. \"+32-123-456789\", count the number of hyphens in it"
   ]
  },
  {
   "cell_type": "code",
   "execution_count": 26,
   "metadata": {
    "collapsed": false
   },
   "outputs": [
    {
     "name": "stdout",
     "output_type": "stream",
     "text": [
      "2\n"
     ]
    }
   ],
   "source": [
    "import re\n",
    "text=\"+32-123-456789\"\n",
    "a=re.findall(r'(?:-)',text)\n",
    "print len(a)"
   ]
  },
  {
   "cell_type": "markdown",
   "metadata": {},
   "source": [
    "#### Ex Repeat exercise 0.9.2 using list comprehensions"
   ]
  },
  {
   "cell_type": "code",
   "execution_count": null,
   "metadata": {
    "collapsed": true
   },
   "outputs": [],
   "source": []
  },
  {
   "cell_type": "markdown",
   "metadata": {},
   "source": [
    "Strings have lots of other specialized functions. Here are the most common:"
   ]
  },
  {
   "cell_type": "code",
   "execution_count": 27,
   "metadata": {
    "collapsed": false
   },
   "outputs": [
    {
     "data": {
      "text/plain": [
       "'HELLO WORLD'"
      ]
     },
     "execution_count": 27,
     "metadata": {},
     "output_type": "execute_result"
    }
   ],
   "source": [
    "s = \"hello world\"\n",
    "s.upper()"
   ]
  },
  {
   "cell_type": "code",
   "execution_count": 28,
   "metadata": {
    "collapsed": false
   },
   "outputs": [
    {
     "data": {
      "text/plain": [
       "'my name is earl'"
      ]
     },
     "execution_count": 28,
     "metadata": {},
     "output_type": "execute_result"
    }
   ],
   "source": [
    "s = \"My NaMe Is EaRl\"\n",
    "s.lower()"
   ]
  },
  {
   "cell_type": "code",
   "execution_count": 29,
   "metadata": {
    "collapsed": false
   },
   "outputs": [
    {
     "data": {
      "text/plain": [
       "True"
      ]
     },
     "execution_count": 29,
     "metadata": {},
     "output_type": "execute_result"
    }
   ],
   "source": [
    "s = \"John Doe\"\n",
    "s.startswith(\"John\")"
   ]
  },
  {
   "cell_type": "code",
   "execution_count": 30,
   "metadata": {
    "collapsed": false
   },
   "outputs": [
    {
     "data": {
      "text/plain": [
       "True"
      ]
     },
     "execution_count": 30,
     "metadata": {},
     "output_type": "execute_result"
    }
   ],
   "source": [
    "s = \"myfile.jpg\"\n",
    "s.endswith(\".jpg\")"
   ]
  },
  {
   "cell_type": "markdown",
   "metadata": {},
   "source": [
    "There are plenty of functions to classify characters:"
   ]
  },
  {
   "cell_type": "code",
   "execution_count": 31,
   "metadata": {
    "collapsed": false
   },
   "outputs": [
    {
     "name": "stdout",
     "output_type": "stream",
     "text": [
      "True\n",
      "True\n",
      "True\n"
     ]
    }
   ],
   "source": [
    "print(\"9\".isdigit())\n",
    "print(\"a\".isalpha())\n",
    "print(\"\\t\".isspace())"
   ]
  },
  {
   "cell_type": "markdown",
   "metadata": {},
   "source": [
    "Two particularly useful operations are split and join.  split takes one string and a delimiter and returns a list of substrings between such delimiters:"
   ]
  },
  {
   "cell_type": "code",
   "execution_count": 32,
   "metadata": {
    "collapsed": false
   },
   "outputs": [
    {
     "data": {
      "text/plain": [
       "['one', 'two', 'three']"
      ]
     },
     "execution_count": 32,
     "metadata": {},
     "output_type": "execute_result"
    }
   ],
   "source": [
    "csvline = \"one,two,three\"\n",
    "csvline.split(\",\")"
   ]
  },
  {
   "cell_type": "markdown",
   "metadata": {},
   "source": [
    "join takes a list of strings and a delimiter, then joins the strings with the delimiter in between. The syntax is a bit special:"
   ]
  },
  {
   "cell_type": "code",
   "execution_count": 33,
   "metadata": {
    "collapsed": false
   },
   "outputs": [
    {
     "data": {
      "text/plain": [
       "'one,two,three'"
      ]
     },
     "execution_count": 33,
     "metadata": {},
     "output_type": "execute_result"
    }
   ],
   "source": [
    "\",\".join([\"one\", \"two\", \"three\"])"
   ]
  },
  {
   "cell_type": "markdown",
   "metadata": {},
   "source": [
    "The delimeter can be the empty string. That's actually quite useful:"
   ]
  },
  {
   "cell_type": "code",
   "execution_count": 34,
   "metadata": {
    "collapsed": false
   },
   "outputs": [
    {
     "data": {
      "text/plain": [
       "'abracadabra'"
      ]
     },
     "execution_count": 34,
     "metadata": {},
     "output_type": "execute_result"
    }
   ],
   "source": [
    "\"\".join([\"abra\",\"cadabra\"])"
   ]
  },
  {
   "cell_type": "markdown",
   "metadata": {},
   "source": [
    "#### Ex Using join and a list comprehension, remove anything except the digits in the phone number \"+32-123-456789\""
   ]
  },
  {
   "cell_type": "code",
   "execution_count": null,
   "metadata": {
    "collapsed": true
   },
   "outputs": [],
   "source": []
  },
  {
   "cell_type": "markdown",
   "metadata": {},
   "source": [
    "Finally, strip() will remove leading and trailing spaces from a string"
   ]
  },
  {
   "cell_type": "code",
   "execution_count": 35,
   "metadata": {
    "collapsed": false
   },
   "outputs": [
    {
     "data": {
      "text/plain": [
       "'hi'"
      ]
     },
     "execution_count": 35,
     "metadata": {},
     "output_type": "execute_result"
    }
   ],
   "source": [
    "\"  hi\\t\".strip()"
   ]
  },
  {
   "cell_type": "markdown",
   "metadata": {},
   "source": [
    "#### Ex Using split, strip and a list comprehension, take a line from a CSV and make a list of the fields in there, with leading and trailing spaces removed"
   ]
  },
  {
   "cell_type": "code",
   "execution_count": null,
   "metadata": {
    "collapsed": true
   },
   "outputs": [],
   "source": []
  },
  {
   "cell_type": "markdown",
   "metadata": {},
   "source": [
    "#### Ex Look up the help string for split. Now split the string \"one,two,three\" into two parts, one before the first comma and then everything after that"
   ]
  },
  {
   "cell_type": "code",
   "execution_count": 41,
   "metadata": {
    "collapsed": false
   },
   "outputs": [
    {
     "data": {
      "text/plain": [
       "['two', 'three']"
      ]
     },
     "execution_count": 41,
     "metadata": {},
     "output_type": "execute_result"
    }
   ],
   "source": [
    "a=\"one,two,three\"\n",
    "a[:3].split(\",\")\n",
    "a[4:].split(\",\")"
   ]
  },
  {
   "cell_type": "markdown",
   "metadata": {},
   "source": [
    "#### Ex Look up the help string for replace. Now replace every hyphen in the phone number \"+32-123-456789\" with a dot ('.')"
   ]
  },
  {
   "cell_type": "code",
   "execution_count": 48,
   "metadata": {
    "collapsed": false
   },
   "outputs": [
    {
     "name": "stdout",
     "output_type": "stream",
     "text": [
      "+32.123.456789\n"
     ]
    }
   ],
   "source": [
    "import string\n",
    "a=\"+32-123-456789\"\n",
    "b=string.replace(a,\"-\",\".\")\n",
    "print b"
   ]
  },
  {
   "cell_type": "markdown",
   "metadata": {},
   "source": [
    "Now with plenty of practice with strings, we're ready to introduce format. This function allows you to insert values within a string and control how those values are displayed. Here are a couple of representative examples:"
   ]
  },
  {
   "cell_type": "code",
   "execution_count": 49,
   "metadata": {
    "collapsed": false
   },
   "outputs": [
    {
     "name": "stdout",
     "output_type": "stream",
     "text": [
      "a = 10, a^2 = 100. What do you think, John?\n"
     ]
    }
   ],
   "source": [
    "print(\"a = {0}, a^2 = {1}. What do you think, {2}?\"\n",
    "      .format(10, 10**2, \"John\"))"
   ]
  },
  {
   "cell_type": "markdown",
   "metadata": {},
   "source": [
    "Here's a more interesting example of how you might control field alignment and width to format a table:"
   ]
  },
  {
   "cell_type": "code",
   "execution_count": 50,
   "metadata": {
    "collapsed": false
   },
   "outputs": [
    {
     "name": "stdout",
     "output_type": "stream",
     "text": [
      "name            age       phone        \n",
      "John             25   +32-123-456789   \n",
      "Melissa          38   +1-510-123456    \n",
      "Joey              3       <none>       \n"
     ]
    }
   ],
   "source": [
    "data = [\n",
    "    ['name', 'age', 'phone'],          # Header row\n",
    "    ['John', 25, '+32-123-456789'],    # Data row 1\n",
    "    ['Melissa', 38, '+1-510-123456'],  # Data row 2\n",
    "    ['Joey', 3, '<none>'],             # Data row 3\n",
    "]\n",
    "for line in data:\n",
    "    print('{0:<15}{1:>4}{2:^20}'.format(line[0], line[1], line[2]))"
   ]
  },
  {
   "cell_type": "markdown",
   "metadata": {},
   "source": [
    "Another useful feature of format is its control of precision in formatting floating point numbers and percentages:"
   ]
  },
  {
   "cell_type": "code",
   "execution_count": 52,
   "metadata": {
    "collapsed": false
   },
   "outputs": [
    {
     "name": "stdout",
     "output_type": "stream",
     "text": [
      "3.1\n",
      "3.1416\n",
      "59.21%\n"
     ]
    }
   ],
   "source": [
    "print(\"{0:.1f}\".format(3.141592))\n",
    "print(\"{0:.4f}\".format(3.141592))\n",
    "print(\"{0:.2%}\".format(45./76.))"
   ]
  },
  {
   "cell_type": "markdown",
   "metadata": {},
   "source": [
    "### Tuples"
   ]
  },
  {
   "cell_type": "markdown",
   "metadata": {},
   "source": [
    "Python has special syntax for short, immutable lists, called tuples, that makes many operations a snap.    \n",
    "A tuple is created like a list, except with parentheses instead of square brackets:\n"
   ]
  },
  {
   "cell_type": "code",
   "execution_count": 53,
   "metadata": {
    "collapsed": false
   },
   "outputs": [
    {
     "data": {
      "text/plain": [
       "tuple"
      ]
     },
     "execution_count": 53,
     "metadata": {},
     "output_type": "execute_result"
    }
   ],
   "source": [
    "t = (1,2,3)\n",
    "type(t)"
   ]
  },
  {
   "cell_type": "markdown",
   "metadata": {},
   "source": [
    "Most operations that work with lists also work with tuples:"
   ]
  },
  {
   "cell_type": "code",
   "execution_count": 54,
   "metadata": {
    "collapsed": false
   },
   "outputs": [
    {
     "name": "stdout",
     "output_type": "stream",
     "text": [
      "3\n",
      "1\n",
      "(1, 2)\n",
      "6\n"
     ]
    }
   ],
   "source": [
    "print(len(t))\n",
    "print(t[0])\n",
    "print(t[:2])\n",
    "print(sum(t))"
   ]
  },
  {
   "cell_type": "markdown",
   "metadata": {},
   "source": [
    "An empty tuple, like an empty list, is represented by a pair of parentheses with nothing in between:"
   ]
  },
  {
   "cell_type": "code",
   "execution_count": 55,
   "metadata": {
    "collapsed": false
   },
   "outputs": [
    {
     "name": "stdout",
     "output_type": "stream",
     "text": [
      "()\n",
      "0\n"
     ]
    }
   ],
   "source": [
    "empty_tuple = ()\n",
    "print(empty_tuple)\n",
    "print(len(empty_tuple))"
   ]
  },
  {
   "cell_type": "markdown",
   "metadata": {},
   "source": [
    "A tuple with one item needs slightly special syntax to differentiate it from an expression in parentheses:"
   ]
  },
  {
   "cell_type": "code",
   "execution_count": 56,
   "metadata": {
    "collapsed": false
   },
   "outputs": [
    {
     "data": {
      "text/plain": [
       "int"
      ]
     },
     "execution_count": 56,
     "metadata": {},
     "output_type": "execute_result"
    }
   ],
   "source": [
    "the_number_one = (1)\n",
    "type(the_number_one)"
   ]
  },
  {
   "cell_type": "code",
   "execution_count": 57,
   "metadata": {
    "collapsed": false
   },
   "outputs": [
    {
     "data": {
      "text/plain": [
       "tuple"
      ]
     },
     "execution_count": 57,
     "metadata": {},
     "output_type": "execute_result"
    }
   ],
   "source": [
    "a_lonely_tuple = (1,)   # Need an extra comma!\n",
    "type(a_lonely_tuple)"
   ]
  },
  {
   "cell_type": "markdown",
   "metadata": {},
   "source": [
    "#### Ex Using list comprehension, take a number n and make a list of all the ways of expressing it as a product of two positive integers."
   ]
  },
  {
   "cell_type": "code",
   "execution_count": null,
   "metadata": {
    "collapsed": true
   },
   "outputs": [],
   "source": []
  },
  {
   "cell_type": "markdown",
   "metadata": {},
   "source": [
    "Tuples are useful because of the packing and unpacking operations.    \n",
    "Python will automatically make a tuple (packing) whenever it sees a set of values separated by commas:"
   ]
  },
  {
   "cell_type": "code",
   "execution_count": 58,
   "metadata": {
    "collapsed": false
   },
   "outputs": [
    {
     "data": {
      "text/plain": [
       "tuple"
      ]
     },
     "execution_count": 58,
     "metadata": {},
     "output_type": "execute_result"
    }
   ],
   "source": [
    "stock = 'GOOG', 100, 45.32\n",
    "type(stock)"
   ]
  },
  {
   "cell_type": "code",
   "execution_count": 59,
   "metadata": {
    "collapsed": false
   },
   "outputs": [
    {
     "data": {
      "text/plain": [
       "'GOOG10045.32'"
      ]
     },
     "execution_count": 59,
     "metadata": {},
     "output_type": "execute_result"
    }
   ],
   "source": [
    "'{0}{1}{2}'.format('GOOG', 100, 45.32)"
   ]
  },
  {
   "cell_type": "code",
   "execution_count": 60,
   "metadata": {
    "collapsed": false
   },
   "outputs": [
    {
     "data": {
      "text/plain": [
       "('GOOG', 100, 45.32)"
      ]
     },
     "execution_count": 60,
     "metadata": {},
     "output_type": "execute_result"
    }
   ],
   "source": [
    "stock"
   ]
  },
  {
   "cell_type": "markdown",
   "metadata": {},
   "source": [
    "Python will automatically extract the members of a tuple if you assign to a list of variables:"
   ]
  },
  {
   "cell_type": "code",
   "execution_count": 61,
   "metadata": {
    "collapsed": false
   },
   "outputs": [
    {
     "name": "stdout",
     "output_type": "stream",
     "text": [
      "GOOG\n",
      "100\n",
      "45.32\n"
     ]
    }
   ],
   "source": [
    "name, quantity, price = stock\n",
    "print(name)\n",
    "print(quantity)\n",
    "print(price)"
   ]
  },
  {
   "cell_type": "markdown",
   "metadata": {},
   "source": [
    "This syntax enables several idioms:"
   ]
  },
  {
   "cell_type": "code",
   "execution_count": 62,
   "metadata": {
    "collapsed": false
   },
   "outputs": [
    {
     "name": "stdout",
     "output_type": "stream",
     "text": [
      "a is now 2 and b is now 5\n"
     ]
    }
   ],
   "source": [
    "a = 5\n",
    "b = 2\n",
    "\n",
    "a, b = b, a  # Swap\n",
    "\n",
    "print(\"a is now {0} and b is now {1}\".format(a, b))"
   ]
  },
  {
   "cell_type": "code",
   "execution_count": 63,
   "metadata": {
    "collapsed": false
   },
   "outputs": [
    {
     "name": "stdout",
     "output_type": "stream",
     "text": [
      "I have 100 shares of GOOG, priced at 45.32, for a value of EUR 4,532.00\n",
      "I have 50 shares of APPL, priced at 67.89, for a value of EUR 3,394.50\n",
      "I have 1 shares of MSFT, priced at 0.43, for a value of EUR 0.43\n"
     ]
    }
   ],
   "source": [
    "# Iteration through a list of tuples\n",
    "portfolio = [\n",
    "    ('GOOG', 100, 45.32),\n",
    "    ('APPL',  50, 67.89),\n",
    "    ('MSFT',   1,  0.43),\n",
    "]\n",
    "for name, quantity, price in portfolio:\n",
    "    print(\"I have {0} shares of {1}, priced at {2}, \"\n",
    "          \"for a value of EUR {3:,.2f}\"\n",
    "          .format(quantity, name, price, price*quantity))"
   ]
  },
  {
   "cell_type": "markdown",
   "metadata": {},
   "source": [
    "Notice that the tuples in portfolio are unpacked right in the for statement. The above is equal to the slightly more verbose code below:"
   ]
  },
  {
   "cell_type": "code",
   "execution_count": 64,
   "metadata": {
    "collapsed": false
   },
   "outputs": [
    {
     "name": "stdout",
     "output_type": "stream",
     "text": [
      "I have 100 shares of GOOG, priced at 45.32, for a value of EUR 4,532.00\n",
      "I have 50 shares of APPL, priced at 67.89, for a value of EUR 3,394.50\n",
      "I have 1 shares of MSFT, priced at 0.43, for a value of EUR 0.43\n"
     ]
    }
   ],
   "source": [
    "# Iteration through a list of tuples\n",
    "portfolio = [\n",
    "    ('GOOG', 100, 45.32),\n",
    "    ('APPL',  50, 67.89),\n",
    "    ('MSFT',   1,  0.43),\n",
    "]\n",
    "for stock in portfolio:\n",
    "    name, quantity, price = stock\n",
    "    print(\"I have {0} shares of {1}, priced at {2}, \"\n",
    "          \"for a value of EUR {3:,.2f}\"\n",
    "          .format(quantity, name, price, price*quantity))"
   ]
  },
  {
   "cell_type": "markdown",
   "metadata": {},
   "source": [
    "Tuple unpacking is also useful together with the zip operation on lists. If you have two \"parallel\" lists A and B, zip(A,B) produces a list of the corresponding tuples in each list."
   ]
  },
  {
   "cell_type": "code",
   "execution_count": 65,
   "metadata": {
    "collapsed": false
   },
   "outputs": [
    {
     "data": {
      "text/plain": [
       "[(1, 'one'), (2, 'two'), (3, 'three')]"
      ]
     },
     "execution_count": 65,
     "metadata": {},
     "output_type": "execute_result"
    }
   ],
   "source": [
    "A = [1,2,3]\n",
    "B = [\"one\", \"two\", \"three\"]\n",
    "zip(A,B)"
   ]
  },
  {
   "cell_type": "markdown",
   "metadata": {},
   "source": [
    "The tuples can then be unpacked in a for loop:"
   ]
  },
  {
   "cell_type": "code",
   "execution_count": 66,
   "metadata": {
    "collapsed": false
   },
   "outputs": [
    {
     "name": "stdout",
     "output_type": "stream",
     "text": [
      "The word for 1 in English is one\n",
      "The word for 2 in English is two\n",
      "The word for 3 in English is three\n"
     ]
    }
   ],
   "source": [
    "for num, word in zip(A, B):\n",
    "    print(\"The word for {0} in English is {1}\".format(num, word))"
   ]
  },
  {
   "cell_type": "markdown",
   "metadata": {},
   "source": [
    "#### Given a list l, produce a list of tuples for the consecutive items in l."
   ]
  },
  {
   "cell_type": "code",
   "execution_count": null,
   "metadata": {
    "collapsed": true
   },
   "outputs": [],
   "source": []
  },
  {
   "cell_type": "markdown",
   "metadata": {},
   "source": [
    "If you need the indices of items in a list, you can use enumerate:"
   ]
  },
  {
   "cell_type": "code",
   "execution_count": 67,
   "metadata": {
    "collapsed": false
   },
   "outputs": [
    {
     "name": "stdout",
     "output_type": "stream",
     "text": [
      "Letter 1 is C\n",
      "Letter 2 is r\n",
      "Letter 3 is a\n",
      "Letter 4 is b\n"
     ]
    }
   ],
   "source": [
    "word = \"Crab\"  # You can think of a string as a list of characters\n",
    "for i, c in enumerate(word):\n",
    "    print(\"Letter {0} is {1}\".format(i + 1, c))"
   ]
  },
  {
   "cell_type": "markdown",
   "metadata": {},
   "source": [
    "Another useful idiom has to do with splitting strings of a known structure:"
   ]
  },
  {
   "cell_type": "code",
   "execution_count": 68,
   "metadata": {
    "collapsed": false
   },
   "outputs": [
    {
     "name": "stdout",
     "output_type": "stream",
     "text": [
      "mypicture\n",
      "jpg\n"
     ]
    }
   ],
   "source": [
    "filename = 'mypicture.jpg'\n",
    "basename, extension = filename.split(\".\")\n",
    "print(basename)\n",
    "print(extension)"
   ]
  },
  {
   "cell_type": "code",
   "execution_count": 69,
   "metadata": {
    "collapsed": false
   },
   "outputs": [
    {
     "name": "stdout",
     "output_type": "stream",
     "text": [
      "GOOG\n",
      "100\n",
      "45.32\n"
     ]
    }
   ],
   "source": [
    "csvline = \"GOOG,100,45.32\"\n",
    "name, quantity_str, price_str = csvline.split(\",\")\n",
    "print(name)\n",
    "print(quantity_str)\n",
    "print(price_str)"
   ]
  },
  {
   "cell_type": "code",
   "execution_count": 70,
   "metadata": {
    "collapsed": false
   },
   "outputs": [
    {
     "name": "stdout",
     "output_type": "stream",
     "text": [
      "Header line: 'Name,Quantity,Price'\n",
      "Rest: 'GOOG,100,45.32\n",
      "APPL,50,67.89\n",
      "...'\n",
      "Rest lines: '['GOOG,100,45.32', 'APPL,50,67.89', '...']'\n"
     ]
    }
   ],
   "source": [
    "csvfile_with_header = (\n",
    "\"\"\"Name,Quantity,Price\n",
    "GOOG,100,45.32\n",
    "APPL,50,67.89\n",
    "...\"\"\")\n",
    "header_line, rest = csvfile_with_header.split(\"\\n\", 1)\n",
    "print(\"Header line: '{0}'\".format(header_line))\n",
    "print(\"Rest: '{0}'\".format(rest))\n",
    "print(\"Rest lines: '{0}'\".format(rest.split(\"\\n\")))"
   ]
  },
  {
   "cell_type": "markdown",
   "metadata": {},
   "source": [
    "### Dictionaries"
   ]
  },
  {
   "cell_type": "markdown",
   "metadata": {},
   "source": [
    "The final core Python data type we'll talk about are dictionaries. These allow you to associate keys to values. Here's an example:"
   ]
  },
  {
   "cell_type": "code",
   "execution_count": 71,
   "metadata": {
    "collapsed": false
   },
   "outputs": [
    {
     "data": {
      "text/plain": [
       "dict"
      ]
     },
     "execution_count": 71,
     "metadata": {},
     "output_type": "execute_result"
    }
   ],
   "source": [
    "d = {'GOOG': 45.32, 'APPL': 67.89, 'MSFT': 0.43}\n",
    "type(d)"
   ]
  },
  {
   "cell_type": "markdown",
   "metadata": {},
   "source": [
    "Dictionaries support lookup by key:"
   ]
  },
  {
   "cell_type": "code",
   "execution_count": 72,
   "metadata": {
    "collapsed": false
   },
   "outputs": [
    {
     "name": "stdout",
     "output_type": "stream",
     "text": [
      "45.32\n"
     ]
    }
   ],
   "source": [
    "print(d['GOOG'])"
   ]
  },
  {
   "cell_type": "markdown",
   "metadata": {},
   "source": [
    "You can see if a dictionary contains a given key:"
   ]
  },
  {
   "cell_type": "code",
   "execution_count": 73,
   "metadata": {
    "collapsed": false
   },
   "outputs": [
    {
     "data": {
      "text/plain": [
       "True"
      ]
     },
     "execution_count": 73,
     "metadata": {},
     "output_type": "execute_result"
    }
   ],
   "source": [
    "'APPL' in d"
   ]
  },
  {
   "cell_type": "code",
   "execution_count": 74,
   "metadata": {
    "collapsed": false
   },
   "outputs": [
    {
     "data": {
      "text/plain": [
       "False"
      ]
     },
     "execution_count": 74,
     "metadata": {},
     "output_type": "execute_result"
    }
   ],
   "source": [
    "'IBM' in d"
   ]
  },
  {
   "cell_type": "markdown",
   "metadata": {},
   "source": [
    "You can add new keys to a dictionary:"
   ]
  },
  {
   "cell_type": "code",
   "execution_count": 75,
   "metadata": {
    "collapsed": false
   },
   "outputs": [
    {
     "name": "stdout",
     "output_type": "stream",
     "text": [
      "{'GOOG': 45.32, 'APPL': 67.89, 'IBM': 13.24, 'MSFT': 0.43}\n"
     ]
    }
   ],
   "source": [
    "d['IBM'] = 13.24\n",
    "print(d)"
   ]
  },
  {
   "cell_type": "markdown",
   "metadata": {},
   "source": [
    "Or delete keys:"
   ]
  },
  {
   "cell_type": "code",
   "execution_count": 76,
   "metadata": {
    "collapsed": false
   },
   "outputs": [
    {
     "name": "stdout",
     "output_type": "stream",
     "text": [
      "{'GOOG': 45.32, 'IBM': 13.24, 'MSFT': 0.43}\n"
     ]
    }
   ],
   "source": [
    "del d['APPL']\n",
    "print(d)"
   ]
  },
  {
   "cell_type": "markdown",
   "metadata": {},
   "source": [
    "A key is associated with only one value. You can replace it as follows:"
   ]
  },
  {
   "cell_type": "code",
   "execution_count": 77,
   "metadata": {
    "collapsed": false
   },
   "outputs": [
    {
     "name": "stdout",
     "output_type": "stream",
     "text": [
      "{'GOOG': 45.32, 'IBM': 13.24, 'MSFT': 0.43}\n",
      "{'GOOG': 0.01, 'IBM': 13.24, 'MSFT': 0.43}\n"
     ]
    }
   ],
   "source": [
    "print(d)\n",
    "d['GOOG'] = 0.01   # Google terminates Gmail...\n",
    "print(d)"
   ]
  },
  {
   "cell_type": "markdown",
   "metadata": {},
   "source": [
    "If you use a for loop against a dictionary, you'll iterate through its keys:"
   ]
  },
  {
   "cell_type": "code",
   "execution_count": 78,
   "metadata": {
    "collapsed": false
   },
   "outputs": [
    {
     "name": "stdout",
     "output_type": "stream",
     "text": [
      "The price of GOOG is 0.01\n",
      "The price of IBM is 13.24\n",
      "The price of MSFT is 0.43\n"
     ]
    }
   ],
   "source": [
    "for name in d:\n",
    "    print(\"The price of {0} is {1}\".format(name, d[name]))"
   ]
  },
  {
   "cell_type": "markdown",
   "metadata": {},
   "source": [
    "More often than not, you'll want to iterate through the key-value pairs. Tuple unpacking makes this super-easy:"
   ]
  },
  {
   "cell_type": "code",
   "execution_count": 79,
   "metadata": {
    "collapsed": false
   },
   "outputs": [
    {
     "name": "stdout",
     "output_type": "stream",
     "text": [
      "The price of GOOG is 0.01\n",
      "The price of IBM is 13.24\n",
      "The price of MSFT is 0.43\n"
     ]
    }
   ],
   "source": [
    "for name, price in d.items():\n",
    "    print(\"The price of {0} is {1}\".format(name, price))"
   ]
  },
  {
   "cell_type": "code",
   "execution_count": 80,
   "metadata": {
    "collapsed": false
   },
   "outputs": [
    {
     "data": {
      "text/plain": [
       "[('GOOG', 0.01), ('IBM', 13.24), ('MSFT', 0.43)]"
      ]
     },
     "execution_count": 80,
     "metadata": {},
     "output_type": "execute_result"
    }
   ],
   "source": [
    "d.items()"
   ]
  },
  {
   "cell_type": "markdown",
   "metadata": {},
   "source": [
    "There is no guaranteed order of iteration. If you want a sorted order, sort the items list as follows:"
   ]
  },
  {
   "cell_type": "code",
   "execution_count": 81,
   "metadata": {
    "collapsed": false
   },
   "outputs": [
    {
     "name": "stdout",
     "output_type": "stream",
     "text": [
      "The price of GOOG is 0.01\n",
      "The price of IBM is 13.24\n",
      "The price of MSFT is 0.43\n"
     ]
    }
   ],
   "source": [
    "for name, price in sorted(d.items()):\n",
    "    print(\"The price of {0} is {1}\".format(name, price))"
   ]
  },
  {
   "cell_type": "markdown",
   "metadata": {},
   "source": [
    "#### Ex Write some code to create a dictionary that maps each word in a sentence to the number of times it appears in it. For simplicity, assume words are only separated by spaces"
   ]
  },
  {
   "cell_type": "code",
   "execution_count": null,
   "metadata": {
    "collapsed": true
   },
   "outputs": [],
   "source": []
  }
 ],
 "metadata": {
  "kernelspec": {
   "display_name": "Python 2",
   "language": "python",
   "name": "python2"
  },
  "language_info": {
   "codemirror_mode": {
    "name": "ipython",
    "version": 2
   },
   "file_extension": ".py",
   "mimetype": "text/x-python",
   "name": "python",
   "nbconvert_exporter": "python",
   "pygments_lexer": "ipython2",
   "version": "2.7.11"
  }
 },
 "nbformat": 4,
 "nbformat_minor": 0
}
